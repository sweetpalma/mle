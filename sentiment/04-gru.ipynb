{
 "cells": [
  {
   "cell_type": "markdown",
   "id": "1328c26f-f4c4-459e-b0e1-51208b368377",
   "metadata": {
    "editable": true,
    "slideshow": {
     "slide_type": ""
    },
    "tags": []
   },
   "source": [
    "# Recurrent Neural Networks\n",
    "\n",
    "In our [previous MLP experiment](./03-mlp.ipynb), we saw that a neural network could extract more from averaged word embeddings than a simple Logistic Regression. However, averaging throws away crucial information - the order of words in a sentence.\n",
    "\n",
    "This time, we are going to dive deeper into **recurrent neural networks**. They are specifically designed to process sequences, remembering context and understanding how word order contributes to meaning. Let's see if harnessing this sequential power can push our accuracy even further."
   ]
  },
  {
   "cell_type": "markdown",
   "id": "e7778f81-c1de-4370-8059-7746a7f51ff3",
   "metadata": {},
   "source": [
    "## Data Preparation"
   ]
  },
  {
   "cell_type": "code",
   "execution_count": 1,
   "id": "ebf07db0-756f-4ff1-bc78-e47f125eb564",
   "metadata": {},
   "outputs": [],
   "source": [
    "from datasets import load_dataset\n",
    "import numpy as np\n",
    "\n",
    "train, test = load_dataset('stanfordnlp/imdb', split=['train', 'test'])\n",
    "class_names = train.features['label'].names\n",
    "\n",
    "x_train = np.array(train['text'])\n",
    "y_train = np.array(train['label'])\n",
    "x_test = np.array(test['text'])\n",
    "y_test = np.array(test['label'])"
   ]
  },
  {
   "cell_type": "markdown",
   "id": "554972f5-640d-45a8-b5b6-f12d663ea3b9",
   "metadata": {},
   "source": [
    "In our previous notebook, we simply tokenized text and then immediately squashed it into the averaged word vectors. Our new recurrent pipeline needs to be a bit more complicated.\n",
    "\n",
    "This time, we would simply **tokenize** our sentences first - without trying to vectorize them. We might limit the vocabulary, making it more robust and accurate representation of frequently occurring words by filtering out rare or noisy terms."
   ]
  },
  {
   "cell_type": "code",
   "execution_count": 2,
   "id": "718fb948-3b18-4c9f-acf1-fd0cb0c31c5d",
   "metadata": {},
   "outputs": [
    {
     "data": {
      "text/plain": [
       "[[4804, 180]]"
      ]
     },
     "metadata": {},
     "output_type": "display_data"
    }
   ],
   "source": [
    "from tensorflow.keras.preprocessing.text import Tokenizer\n",
    "\n",
    "max_vocab = 20000\n",
    "tokenizer = Tokenizer(num_words=max_vocab, oov_token='[OOV]')\n",
    "\n",
    "tokenizer.fit_on_texts(x_train)\n",
    "display(tokenizer.texts_to_sequences(['Hello World']))"
   ]
  },
  {
   "cell_type": "markdown",
   "id": "60b724b6-e573-483b-ac63-ba0adc323d24",
   "metadata": {},
   "source": [
    "Next, we need to **pad** our sequences. Most neural networks require input sequences to be of a uniform length. Since our sentences naturally vary, we need to bring them to the same length.\n",
    "\n",
    "This involves either truncating longer sequences or adding special tokens (usually zeros) to shorter sequences until they all reach a predetermined maximum length. Let's do a small research to determine how long our sequences usually are."
   ]
  },
  {
   "cell_type": "code",
   "execution_count": 3,
   "id": "48e645d0-2af6-4edc-bac6-f41484920ffd",
   "metadata": {},
   "outputs": [
    {
     "data": {
      "text/plain": [
       "count    25000.000000\n",
       "mean       233.787200\n",
       "std        173.733032\n",
       "min         10.000000\n",
       "25%        127.000000\n",
       "50%        174.000000\n",
       "75%        284.000000\n",
       "95%        598.000000\n",
       "99%        913.000000\n",
       "max       2470.000000\n",
       "Name: text, dtype: float64"
      ]
     },
     "metadata": {},
     "output_type": "display_data"
    }
   ],
   "source": [
    "import matplotlib.pyplot as plt\n",
    "text_lengths = train.to_pandas()['text'].apply(lambda x: len(x.split()))\n",
    "display(text_lengths.describe(percentiles=[0.25, 0.5, 0.75, 0.95, 0.99]))"
   ]
  },
  {
   "cell_type": "markdown",
   "id": "a1319ad8-3e32-48e9-9a34-785271308c9b",
   "metadata": {},
   "source": [
    "Taking the top quartile length seems to be a reasonable choice here."
   ]
  },
  {
   "cell_type": "code",
   "execution_count": 4,
   "id": "a705e757-43a8-475b-bdd6-8636769f3f79",
   "metadata": {},
   "outputs": [
    {
     "data": {
      "text/plain": [
       "array([[   5,   30,    2, ...,    5,    4,  112],\n",
       "       [   0,    0,    0, ...,    5, 5075, 2347],\n",
       "       [   0,    0,    0, ..., 1785,    8,    8],\n",
       "       ...,\n",
       "       [   0,    0,    0, ...,  278,    4,    1],\n",
       "       [1600,    1,  762, ...,   17,    2, 9207],\n",
       "       [   0,    0,    0, ...,    1,   24, 3573]], dtype=int32)"
      ]
     },
     "metadata": {},
     "output_type": "display_data"
    },
    {
     "data": {
      "text/plain": [
       "(25000, 284)"
      ]
     },
     "metadata": {},
     "output_type": "display_data"
    }
   ],
   "source": [
    "from tensorflow.keras.utils import pad_sequences\n",
    "\n",
    "max_seq = 284\n",
    "x_train = pad_sequences(tokenizer.texts_to_sequences(x_train), maxlen=max_seq)\n",
    "x_test = pad_sequences(tokenizer.texts_to_sequences(x_test), maxlen=max_seq)\n",
    "\n",
    "display(x_train)\n",
    "display(x_train.shape)"
   ]
  },
  {
   "cell_type": "markdown",
   "id": "a5f1e4da-04dd-493c-bb4d-1b89ee6dc07d",
   "metadata": {},
   "source": [
    "## Embedding Layer\n",
    "\n",
    "Finally, we need to transform these padded sequences into some meaningful representation that captures their semantic relationships. That's where the **embedding layer** comes in. To build it, we may utilize our existing pre-trained model."
   ]
  },
  {
   "cell_type": "code",
   "execution_count": 5,
   "id": "d87ef7df-f983-4f68-8fd4-ecbe96312d5d",
   "metadata": {
    "editable": true,
    "slideshow": {
     "slide_type": ""
    },
    "tags": [
     "hide-output"
    ]
   },
   "outputs": [
    {
     "data": {
      "application/vnd.jupyter.widget-view+json": {
       "model_id": "34d50888f5c04164b0212f9ed41aee33",
       "version_major": 2,
       "version_minor": 0
      },
      "text/plain": [
       "Fetching 4 files:   0%|          | 0/4 [00:00<?, ?it/s]"
      ]
     },
     "metadata": {},
     "output_type": "display_data"
    }
   ],
   "source": [
    "from os import path\n",
    "from huggingface_hub import snapshot_download\n",
    "from gensim.models import KeyedVectors\n",
    "\n",
    "model_path = path.join(snapshot_download('fse/word2vec-google-news-300'), 'word2vec-google-news-300.model')\n",
    "wv = KeyedVectors.load(model_path)"
   ]
  },
  {
   "cell_type": "markdown",
   "id": "2883aa41-cc3c-4850-a70e-2630fde63690",
   "metadata": {},
   "source": [
    "Think of it as some sort of a **lookup table** - for each token in our sequence, the embedding layer looks up its corresponding dense vector. This helps our neural network to capture not some random indexes, but the *semantic* meaning of words."
   ]
  },
  {
   "cell_type": "code",
   "execution_count": 6,
   "id": "f1612d0e-fc73-4675-8534-de9f591129ab",
   "metadata": {},
   "outputs": [],
   "source": [
    "embedding_matrix_shape = (max_vocab, wv.vector_size)\n",
    "embedding_matrix = np.zeros(shape=embedding_matrix_shape)\n",
    "for word, index in tokenizer.word_index.items():\n",
    "    if index < max_vocab:\n",
    "        if word in wv:\n",
    "            embedding_matrix[index] = wv.get_vector(word)\n",
    "        else:\n",
    "            embedding_matrix[index] = np.zeros(wv.vector_size)"
   ]
  },
  {
   "cell_type": "markdown",
   "id": "72a1dbbc-fa62-4355-af58-fe4f63a030f1",
   "metadata": {},
   "source": [
    "## Building and Training the Model\n",
    "\n",
    "Here comes the most interesting part. \n",
    "\n",
    "With our text now represented as sequences of dense semantic vectors (thanks to the embedding layer), we can introduce the star of this experiment - the **Gated Recurrent Unit (GRU)** layer. Unlike a simple dense layer that processes all its inputs at once, a GRU layer processes each vector in our sequence one at a time. Internally, each GRU unit contains two **gates** – an update gate, and a reset gate. \n",
    "\n",
    "These gates learn to control the flow of information, deciding what to remember from previous steps, what to discard, and what new information from the current word's vector is important enough to update its hidden memory, allowing it to capture *context* and *dependencies* across the entire sequence.\n",
    "\n",
    "We may also make the recurrent layer **bidirectional**, wrapping it in a special helper function - this will allow the network to capture information from both past and future time steps, leading to a more comprehensive understanding of the sequence."
   ]
  },
  {
   "cell_type": "code",
   "execution_count": 7,
   "id": "8333ee3c-872d-4ac2-9ef6-3f0c56a40826",
   "metadata": {},
   "outputs": [
    {
     "data": {
      "text/html": [
       "<pre style=\"white-space:pre;overflow-x:auto;line-height:normal;font-family:Menlo,'DejaVu Sans Mono',consolas,'Courier New',monospace\"><span style=\"font-weight: bold\">Model: \"sequential\"</span>\n",
       "</pre>\n"
      ],
      "text/plain": [
       "\u001b[1mModel: \"sequential\"\u001b[0m\n"
      ]
     },
     "metadata": {},
     "output_type": "display_data"
    },
    {
     "data": {
      "text/html": [
       "<pre style=\"white-space:pre;overflow-x:auto;line-height:normal;font-family:Menlo,'DejaVu Sans Mono',consolas,'Courier New',monospace\">┏━━━━━━━━━━━━━━━━━━━━━━━━━━━━━━━━━┳━━━━━━━━━━━━━━━━━━━━━━━━┳━━━━━━━━━━━━━━━┓\n",
       "┃<span style=\"font-weight: bold\"> Layer (type)                    </span>┃<span style=\"font-weight: bold\"> Output Shape           </span>┃<span style=\"font-weight: bold\">       Param # </span>┃\n",
       "┡━━━━━━━━━━━━━━━━━━━━━━━━━━━━━━━━━╇━━━━━━━━━━━━━━━━━━━━━━━━╇━━━━━━━━━━━━━━━┩\n",
       "│ embedding (<span style=\"color: #0087ff; text-decoration-color: #0087ff\">Embedding</span>)           │ (<span style=\"color: #00d7ff; text-decoration-color: #00d7ff\">None</span>, <span style=\"color: #00af00; text-decoration-color: #00af00\">284</span>, <span style=\"color: #00af00; text-decoration-color: #00af00\">300</span>)       │     <span style=\"color: #00af00; text-decoration-color: #00af00\">6,000,000</span> │\n",
       "├─────────────────────────────────┼────────────────────────┼───────────────┤\n",
       "│ spatial_dropout1d               │ (<span style=\"color: #00d7ff; text-decoration-color: #00d7ff\">None</span>, <span style=\"color: #00af00; text-decoration-color: #00af00\">284</span>, <span style=\"color: #00af00; text-decoration-color: #00af00\">300</span>)       │             <span style=\"color: #00af00; text-decoration-color: #00af00\">0</span> │\n",
       "│ (<span style=\"color: #0087ff; text-decoration-color: #0087ff\">SpatialDropout1D</span>)              │                        │               │\n",
       "├─────────────────────────────────┼────────────────────────┼───────────────┤\n",
       "│ bidirectional (<span style=\"color: #0087ff; text-decoration-color: #0087ff\">Bidirectional</span>)   │ (<span style=\"color: #00d7ff; text-decoration-color: #00d7ff\">None</span>, <span style=\"color: #00af00; text-decoration-color: #00af00\">256</span>)            │       <span style=\"color: #00af00; text-decoration-color: #00af00\">330,240</span> │\n",
       "├─────────────────────────────────┼────────────────────────┼───────────────┤\n",
       "│ dropout (<span style=\"color: #0087ff; text-decoration-color: #0087ff\">Dropout</span>)               │ (<span style=\"color: #00d7ff; text-decoration-color: #00d7ff\">None</span>, <span style=\"color: #00af00; text-decoration-color: #00af00\">256</span>)            │             <span style=\"color: #00af00; text-decoration-color: #00af00\">0</span> │\n",
       "├─────────────────────────────────┼────────────────────────┼───────────────┤\n",
       "│ dense (<span style=\"color: #0087ff; text-decoration-color: #0087ff\">Dense</span>)                   │ (<span style=\"color: #00d7ff; text-decoration-color: #00d7ff\">None</span>, <span style=\"color: #00af00; text-decoration-color: #00af00\">2</span>)              │           <span style=\"color: #00af00; text-decoration-color: #00af00\">514</span> │\n",
       "└─────────────────────────────────┴────────────────────────┴───────────────┘\n",
       "</pre>\n"
      ],
      "text/plain": [
       "┏━━━━━━━━━━━━━━━━━━━━━━━━━━━━━━━━━┳━━━━━━━━━━━━━━━━━━━━━━━━┳━━━━━━━━━━━━━━━┓\n",
       "┃\u001b[1m \u001b[0m\u001b[1mLayer (type)                   \u001b[0m\u001b[1m \u001b[0m┃\u001b[1m \u001b[0m\u001b[1mOutput Shape          \u001b[0m\u001b[1m \u001b[0m┃\u001b[1m \u001b[0m\u001b[1m      Param #\u001b[0m\u001b[1m \u001b[0m┃\n",
       "┡━━━━━━━━━━━━━━━━━━━━━━━━━━━━━━━━━╇━━━━━━━━━━━━━━━━━━━━━━━━╇━━━━━━━━━━━━━━━┩\n",
       "│ embedding (\u001b[38;5;33mEmbedding\u001b[0m)           │ (\u001b[38;5;45mNone\u001b[0m, \u001b[38;5;34m284\u001b[0m, \u001b[38;5;34m300\u001b[0m)       │     \u001b[38;5;34m6,000,000\u001b[0m │\n",
       "├─────────────────────────────────┼────────────────────────┼───────────────┤\n",
       "│ spatial_dropout1d               │ (\u001b[38;5;45mNone\u001b[0m, \u001b[38;5;34m284\u001b[0m, \u001b[38;5;34m300\u001b[0m)       │             \u001b[38;5;34m0\u001b[0m │\n",
       "│ (\u001b[38;5;33mSpatialDropout1D\u001b[0m)              │                        │               │\n",
       "├─────────────────────────────────┼────────────────────────┼───────────────┤\n",
       "│ bidirectional (\u001b[38;5;33mBidirectional\u001b[0m)   │ (\u001b[38;5;45mNone\u001b[0m, \u001b[38;5;34m256\u001b[0m)            │       \u001b[38;5;34m330,240\u001b[0m │\n",
       "├─────────────────────────────────┼────────────────────────┼───────────────┤\n",
       "│ dropout (\u001b[38;5;33mDropout\u001b[0m)               │ (\u001b[38;5;45mNone\u001b[0m, \u001b[38;5;34m256\u001b[0m)            │             \u001b[38;5;34m0\u001b[0m │\n",
       "├─────────────────────────────────┼────────────────────────┼───────────────┤\n",
       "│ dense (\u001b[38;5;33mDense\u001b[0m)                   │ (\u001b[38;5;45mNone\u001b[0m, \u001b[38;5;34m2\u001b[0m)              │           \u001b[38;5;34m514\u001b[0m │\n",
       "└─────────────────────────────────┴────────────────────────┴───────────────┘\n"
      ]
     },
     "metadata": {},
     "output_type": "display_data"
    },
    {
     "data": {
      "text/html": [
       "<pre style=\"white-space:pre;overflow-x:auto;line-height:normal;font-family:Menlo,'DejaVu Sans Mono',consolas,'Courier New',monospace\"><span style=\"font-weight: bold\"> Total params: </span><span style=\"color: #00af00; text-decoration-color: #00af00\">6,330,754</span> (24.15 MB)\n",
       "</pre>\n"
      ],
      "text/plain": [
       "\u001b[1m Total params: \u001b[0m\u001b[38;5;34m6,330,754\u001b[0m (24.15 MB)\n"
      ]
     },
     "metadata": {},
     "output_type": "display_data"
    },
    {
     "data": {
      "text/html": [
       "<pre style=\"white-space:pre;overflow-x:auto;line-height:normal;font-family:Menlo,'DejaVu Sans Mono',consolas,'Courier New',monospace\"><span style=\"font-weight: bold\"> Trainable params: </span><span style=\"color: #00af00; text-decoration-color: #00af00\">330,754</span> (1.26 MB)\n",
       "</pre>\n"
      ],
      "text/plain": [
       "\u001b[1m Trainable params: \u001b[0m\u001b[38;5;34m330,754\u001b[0m (1.26 MB)\n"
      ]
     },
     "metadata": {},
     "output_type": "display_data"
    },
    {
     "data": {
      "text/html": [
       "<pre style=\"white-space:pre;overflow-x:auto;line-height:normal;font-family:Menlo,'DejaVu Sans Mono',consolas,'Courier New',monospace\"><span style=\"font-weight: bold\"> Non-trainable params: </span><span style=\"color: #00af00; text-decoration-color: #00af00\">6,000,000</span> (22.89 MB)\n",
       "</pre>\n"
      ],
      "text/plain": [
       "\u001b[1m Non-trainable params: \u001b[0m\u001b[38;5;34m6,000,000\u001b[0m (22.89 MB)\n"
      ]
     },
     "metadata": {},
     "output_type": "display_data"
    },
    {
     "data": {
      "text/plain": [
       "None"
      ]
     },
     "metadata": {},
     "output_type": "display_data"
    }
   ],
   "source": [
    "from tensorflow.keras.utils import set_random_seed\n",
    "from tensorflow.keras import layers, Sequential\n",
    "\n",
    "num_classes = len(class_names)\n",
    "set_random_seed(0)\n",
    "\n",
    "model = Sequential([\n",
    "    layers.Input(shape=(max_seq,)),\n",
    "    layers.Embedding(\n",
    "        weights=[embedding_matrix],\n",
    "        input_dim=embedding_matrix_shape[0],\n",
    "        output_dim=embedding_matrix_shape[1],\n",
    "        trainable=False,\n",
    "    ),\n",
    "    layers.SpatialDropout1D(0.2),\n",
    "    layers.Bidirectional(layers.GRU(128, dropout=0.3)),\n",
    "    layers.Dropout(0.6),\n",
    "    layers.Dense(num_classes, activation='softmax'),\n",
    "])\n",
    "\n",
    "display(model.summary())"
   ]
  },
  {
   "cell_type": "markdown",
   "id": "d300effc-a4e5-4963-81ca-dd11e611310e",
   "metadata": {},
   "source": [
    "Before we start the training, we might tweak a few more things. Changing the optimizer learning rate may be a good idea - the default one might be too high when using pre-trained embeddings."
   ]
  },
  {
   "cell_type": "code",
   "execution_count": 8,
   "id": "3be945fe-c351-4a71-899e-20bd0ed86905",
   "metadata": {
    "editable": true,
    "slideshow": {
     "slide_type": ""
    },
    "tags": [
     "hide-output"
    ]
   },
   "outputs": [],
   "source": [
    "from tensorflow.keras.optimizers import Adam\n",
    "optimizer = Adam(learning_rate=0.001)"
   ]
  },
  {
   "cell_type": "markdown",
   "id": "4626baa4-538f-423d-b637-ee31c3e00873",
   "metadata": {},
   "source": [
    "We might also use our early stopping callback again."
   ]
  },
  {
   "cell_type": "code",
   "execution_count": 9,
   "id": "69ff6cf6-4039-4245-acb9-53f49cbeba0f",
   "metadata": {},
   "outputs": [],
   "source": [
    "from tensorflow.keras.callbacks import EarlyStopping\n",
    "earlystop = EarlyStopping(monitor='val_loss', patience=10, restore_best_weights=True)"
   ]
  },
  {
   "cell_type": "markdown",
   "id": "ceab0c0f-dc5a-41f0-ba5f-d6200cbd8144",
   "metadata": {},
   "source": [
    "Finally, let's compile and train our final model. This time we might start using the GPU - our model is finally complex enough to leverage the parallelism it offers to speed up the training process."
   ]
  },
  {
   "cell_type": "code",
   "execution_count": 10,
   "id": "4844a91a-c0f1-454b-961d-ec0d16eaf829",
   "metadata": {
    "editable": true,
    "scrolled": true,
    "slideshow": {
     "slide_type": ""
    },
    "tags": [
     "hide-output"
    ]
   },
   "outputs": [
    {
     "name": "stdout",
     "output_type": "stream",
     "text": [
      "Epoch 1/50\n",
      "\u001b[1m313/313\u001b[0m \u001b[32m━━━━━━━━━━━━━━━━━━━━\u001b[0m\u001b[37m\u001b[0m \u001b[1m27s\u001b[0m 84ms/step - accuracy: 0.6692 - loss: 0.6040 - val_accuracy: 0.6120 - val_loss: 0.7549\n",
      "Epoch 2/50\n",
      "\u001b[1m313/313\u001b[0m \u001b[32m━━━━━━━━━━━━━━━━━━━━\u001b[0m\u001b[37m\u001b[0m \u001b[1m24s\u001b[0m 78ms/step - accuracy: 0.8129 - loss: 0.4204 - val_accuracy: 0.8756 - val_loss: 0.3363\n",
      "Epoch 3/50\n",
      "\u001b[1m313/313\u001b[0m \u001b[32m━━━━━━━━━━━━━━━━━━━━\u001b[0m\u001b[37m\u001b[0m \u001b[1m25s\u001b[0m 80ms/step - accuracy: 0.8539 - loss: 0.3451 - val_accuracy: 0.8772 - val_loss: 0.3217\n",
      "Epoch 4/50\n",
      "\u001b[1m313/313\u001b[0m \u001b[32m━━━━━━━━━━━━━━━━━━━━\u001b[0m\u001b[37m\u001b[0m \u001b[1m24s\u001b[0m 77ms/step - accuracy: 0.8655 - loss: 0.3222 - val_accuracy: 0.8454 - val_loss: 0.3880\n",
      "Epoch 5/50\n",
      "\u001b[1m313/313\u001b[0m \u001b[32m━━━━━━━━━━━━━━━━━━━━\u001b[0m\u001b[37m\u001b[0m \u001b[1m24s\u001b[0m 76ms/step - accuracy: 0.8717 - loss: 0.3038 - val_accuracy: 0.8658 - val_loss: 0.3443\n",
      "Epoch 6/50\n",
      "\u001b[1m313/313\u001b[0m \u001b[32m━━━━━━━━━━━━━━━━━━━━\u001b[0m\u001b[37m\u001b[0m \u001b[1m24s\u001b[0m 76ms/step - accuracy: 0.8785 - loss: 0.2909 - val_accuracy: 0.8832 - val_loss: 0.3025\n",
      "Epoch 7/50\n",
      "\u001b[1m313/313\u001b[0m \u001b[32m━━━━━━━━━━━━━━━━━━━━\u001b[0m\u001b[37m\u001b[0m \u001b[1m24s\u001b[0m 78ms/step - accuracy: 0.8874 - loss: 0.2760 - val_accuracy: 0.8906 - val_loss: 0.2834\n",
      "Epoch 8/50\n",
      "\u001b[1m313/313\u001b[0m \u001b[32m━━━━━━━━━━━━━━━━━━━━\u001b[0m\u001b[37m\u001b[0m \u001b[1m28s\u001b[0m 89ms/step - accuracy: 0.8926 - loss: 0.2621 - val_accuracy: 0.8956 - val_loss: 0.2749\n",
      "Epoch 9/50\n",
      "\u001b[1m313/313\u001b[0m \u001b[32m━━━━━━━━━━━━━━━━━━━━\u001b[0m\u001b[37m\u001b[0m \u001b[1m25s\u001b[0m 79ms/step - accuracy: 0.8939 - loss: 0.2526 - val_accuracy: 0.9092 - val_loss: 0.2532\n",
      "Epoch 10/50\n",
      "\u001b[1m313/313\u001b[0m \u001b[32m━━━━━━━━━━━━━━━━━━━━\u001b[0m\u001b[37m\u001b[0m \u001b[1m25s\u001b[0m 79ms/step - accuracy: 0.9021 - loss: 0.2425 - val_accuracy: 0.8572 - val_loss: 0.3565\n",
      "Epoch 11/50\n",
      "\u001b[1m313/313\u001b[0m \u001b[32m━━━━━━━━━━━━━━━━━━━━\u001b[0m\u001b[37m\u001b[0m \u001b[1m25s\u001b[0m 80ms/step - accuracy: 0.9065 - loss: 0.2283 - val_accuracy: 0.8824 - val_loss: 0.3060\n",
      "Epoch 12/50\n",
      "\u001b[1m313/313\u001b[0m \u001b[32m━━━━━━━━━━━━━━━━━━━━\u001b[0m\u001b[37m\u001b[0m \u001b[1m26s\u001b[0m 83ms/step - accuracy: 0.9098 - loss: 0.2206 - val_accuracy: 0.8778 - val_loss: 0.2976\n",
      "Epoch 13/50\n",
      "\u001b[1m313/313\u001b[0m \u001b[32m━━━━━━━━━━━━━━━━━━━━\u001b[0m\u001b[37m\u001b[0m \u001b[1m24s\u001b[0m 77ms/step - accuracy: 0.9099 - loss: 0.2200 - val_accuracy: 0.8834 - val_loss: 0.2799\n",
      "Epoch 14/50\n",
      "\u001b[1m313/313\u001b[0m \u001b[32m━━━━━━━━━━━━━━━━━━━━\u001b[0m\u001b[37m\u001b[0m \u001b[1m26s\u001b[0m 83ms/step - accuracy: 0.9124 - loss: 0.2145 - val_accuracy: 0.9056 - val_loss: 0.2321\n",
      "Epoch 15/50\n",
      "\u001b[1m313/313\u001b[0m \u001b[32m━━━━━━━━━━━━━━━━━━━━\u001b[0m\u001b[37m\u001b[0m \u001b[1m26s\u001b[0m 83ms/step - accuracy: 0.9161 - loss: 0.2120 - val_accuracy: 0.9018 - val_loss: 0.2697\n",
      "Epoch 16/50\n",
      "\u001b[1m313/313\u001b[0m \u001b[32m━━━━━━━━━━━━━━━━━━━━\u001b[0m\u001b[37m\u001b[0m \u001b[1m26s\u001b[0m 82ms/step - accuracy: 0.9191 - loss: 0.2006 - val_accuracy: 0.8960 - val_loss: 0.2699\n",
      "Epoch 17/50\n",
      "\u001b[1m313/313\u001b[0m \u001b[32m━━━━━━━━━━━━━━━━━━━━\u001b[0m\u001b[37m\u001b[0m \u001b[1m27s\u001b[0m 85ms/step - accuracy: 0.9196 - loss: 0.1960 - val_accuracy: 0.9110 - val_loss: 0.2427\n",
      "Epoch 18/50\n",
      "\u001b[1m313/313\u001b[0m \u001b[32m━━━━━━━━━━━━━━━━━━━━\u001b[0m\u001b[37m\u001b[0m \u001b[1m25s\u001b[0m 81ms/step - accuracy: 0.9296 - loss: 0.1821 - val_accuracy: 0.8848 - val_loss: 0.2987\n",
      "Epoch 19/50\n",
      "\u001b[1m313/313\u001b[0m \u001b[32m━━━━━━━━━━━━━━━━━━━━\u001b[0m\u001b[37m\u001b[0m \u001b[1m27s\u001b[0m 85ms/step - accuracy: 0.9278 - loss: 0.1763 - val_accuracy: 0.8720 - val_loss: 0.3333\n",
      "Epoch 20/50\n",
      "\u001b[1m313/313\u001b[0m \u001b[32m━━━━━━━━━━━━━━━━━━━━\u001b[0m\u001b[37m\u001b[0m \u001b[1m26s\u001b[0m 83ms/step - accuracy: 0.9369 - loss: 0.1651 - val_accuracy: 0.8728 - val_loss: 0.3527\n",
      "Epoch 21/50\n",
      "\u001b[1m313/313\u001b[0m \u001b[32m━━━━━━━━━━━━━━━━━━━━\u001b[0m\u001b[37m\u001b[0m \u001b[1m26s\u001b[0m 84ms/step - accuracy: 0.9354 - loss: 0.1617 - val_accuracy: 0.8908 - val_loss: 0.2883\n",
      "Epoch 22/50\n",
      "\u001b[1m313/313\u001b[0m \u001b[32m━━━━━━━━━━━━━━━━━━━━\u001b[0m\u001b[37m\u001b[0m \u001b[1m27s\u001b[0m 85ms/step - accuracy: 0.9354 - loss: 0.1597 - val_accuracy: 0.8802 - val_loss: 0.3373\n",
      "Epoch 23/50\n",
      "\u001b[1m313/313\u001b[0m \u001b[32m━━━━━━━━━━━━━━━━━━━━\u001b[0m\u001b[37m\u001b[0m \u001b[1m26s\u001b[0m 84ms/step - accuracy: 0.9430 - loss: 0.1425 - val_accuracy: 0.8584 - val_loss: 0.3851\n",
      "Epoch 24/50\n",
      "\u001b[1m313/313\u001b[0m \u001b[32m━━━━━━━━━━━━━━━━━━━━\u001b[0m\u001b[37m\u001b[0m \u001b[1m26s\u001b[0m 84ms/step - accuracy: 0.9470 - loss: 0.1407 - val_accuracy: 0.8574 - val_loss: 0.3936\n"
     ]
    }
   ],
   "source": [
    "from tensorflow import device\n",
    "with device('/GPU'):\n",
    "    model.compile(optimizer=optimizer, loss='sparse_categorical_crossentropy', metrics=['accuracy'])\n",
    "    history = model.fit(x_train, y_train, epochs=50, batch_size=64, callbacks=[earlystop], validation_split=0.2) "
   ]
  },
  {
   "cell_type": "markdown",
   "id": "3ff4ab5f-7b61-4d05-9326-a6c22ae5083a",
   "metadata": {},
   "source": [
    "## Result"
   ]
  },
  {
   "cell_type": "code",
   "execution_count": 11,
   "id": "47ff80d1-d975-4934-877f-610e21440a8b",
   "metadata": {
    "editable": true,
    "slideshow": {
     "slide_type": ""
    },
    "tags": []
   },
   "outputs": [
    {
     "name": "stdout",
     "output_type": "stream",
     "text": [
      "              precision    recall  f1-score   support\n",
      "\n",
      "         neg       0.91      0.88      0.90     12500\n",
      "         pos       0.89      0.92      0.90     12500\n",
      "\n",
      "    accuracy                           0.90     25000\n",
      "   macro avg       0.90      0.90      0.90     25000\n",
      "weighted avg       0.90      0.90      0.90     25000\n",
      "\n"
     ]
    }
   ],
   "source": [
    "from sklearn.metrics import classification_report\n",
    "with device('/GPU'):\n",
    "    y_pred_values = model.predict(x_test, verbose=False)\n",
    "    y_pred_labels = np.argmax(y_pred_values, axis=1)\n",
    "    print(classification_report(y_test, y_pred_labels, target_names=class_names))"
   ]
  },
  {
   "cell_type": "code",
   "execution_count": 12,
   "id": "932f887c-af46-4e72-ae68-fc85b53b14ac",
   "metadata": {
    "editable": true,
    "slideshow": {
     "slide_type": ""
    },
    "tags": []
   },
   "outputs": [
    {
     "data": {
      "image/png": "[encoded data removed]",
      "text/plain": [
       "<Figure size 450x300 with 1 Axes>"
      ]
     },
     "metadata": {},
     "output_type": "display_data"
    }
   ],
   "source": [
    "import matplotlib.pyplot as plt\n",
    "plt.figure(figsize=(4.5, 3))\n",
    "plt.plot(history.history['accuracy'], label='train')\n",
    "plt.plot(history.history['val_accuracy'], label='validation')\n",
    "plt.ylabel('accuracy')\n",
    "plt.xlabel('epoch')\n",
    "plt.legend(loc='lower right')\n",
    "plt.show()"
   ]
  },
  {
   "cell_type": "markdown",
   "id": "cbda7276-fb61-44a1-a38b-cbf544ba5f1a",
   "metadata": {},
   "source": [
    "## Conclusion\n",
    "\n",
    "We achieved a final accuracy of **90%**, finally reaching the original **TF-IDF** linear model level. The learning curve is still a bit wonky, but it looks much, much healthier now.\n",
    "\n",
    "This proves the value of sequence-aware models over simple embedding averaging for this kind of task, performing competitively with the heavily optimized linear approach. Further improvements would require exploring more advanced architectures like transformers."
   ]
  }
 ],
 "metadata": {
  "kernelspec": {
   "display_name": "Python 3 (ipykernel)",
   "language": "python",
   "name": "python3"
  },
  "language_info": {
   "codemirror_mode": {
    "name": "ipython",
    "version": 3
   },
   "file_extension": ".py",
   "mimetype": "text/x-python",
   "name": "python",
   "nbconvert_exporter": "python",
   "pygments_lexer": "ipython3",
   "version": "3.10.14"
  }
 },
 "nbformat": 4,
 "nbformat_minor": 5
}
